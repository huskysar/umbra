{
 "cells": [
  {
   "cell_type": "markdown",
   "metadata": {},
   "source": [
    "# Search Umbra SAR Collects for your organization\n",
    "\n",
    "**Important: This does not search the entire archive, only your organization's acquisitions!**\n",
    "\n",
    "Umbra's Documentation\n",
    "https://docs.canopy.umbra.space/docs/migrate-to-stac-api-v2\n",
    "\n",
    "NOTE: Search requires non-sandbox API token from https://canopy.umbra.space/account\n",
    "```\n",
    "export UMBRA_API_TOKEN=xxxx\n",
    "```"
   ]
  },
  {
   "cell_type": "code",
   "execution_count": 1,
   "metadata": {},
   "outputs": [],
   "source": [
    "import geopandas as gpd\n",
    "import pystac_client\n",
    "import os"
   ]
  },
  {
   "cell_type": "code",
   "execution_count": 2,
   "metadata": {},
   "outputs": [],
   "source": [
    "stac_api_url = \"https://api.canopy.umbra.space/v2/stac/\"\n",
    "catalog = pystac_client.Client.open(stac_api_url,\n",
    "                                    headers={\"authorization\": f\"Bearer {os.environ.get('UMBRA_API_TOKEN')}\"}\n",
    ")"
   ]
  },
  {
   "cell_type": "code",
   "execution_count": 3,
   "metadata": {},
   "outputs": [],
   "source": [
    "# NOTE: ConnectionRefusedError / APIError if max_items or limit is not set. seems best to just set both to the same\n",
    "# at least for searches of ~1000 items\n",
    "stac_search = catalog.search(\n",
    "    max_items=1000, # REQUIRED!, max total items returned\n",
    "    limit=1000, # max items per page\n",
    ")\n",
    "\n",
    "items = stac_search.item_collection()\n",
    "gf = gpd.GeoDataFrame.from_features(items.to_dict(), crs='EPSG:4326')"
   ]
  },
  {
   "cell_type": "code",
   "execution_count": null,
   "metadata": {},
   "outputs": [
    {
     "data": {
      "text/plain": [
       "372"
      ]
     },
     "execution_count": 4,
     "metadata": {},
     "output_type": "execute_result"
    }
   ],
   "source": [
    "# NOTE: this is for entire CSDAP organization\n",
    "len(gf)"
   ]
  },
  {
   "cell_type": "code",
   "execution_count": 5,
   "metadata": {},
   "outputs": [],
   "source": [
    "#gf.explore()"
   ]
  }
 ],
 "metadata": {
  "kernelspec": {
   "display_name": "default",
   "language": "python",
   "name": "python3"
  },
  "language_info": {
   "codemirror_mode": {
    "name": "ipython",
    "version": 3
   },
   "file_extension": ".py",
   "mimetype": "text/x-python",
   "name": "python",
   "nbconvert_exporter": "python",
   "pygments_lexer": "ipython3",
   "version": "3.13.1"
  }
 },
 "nbformat": 4,
 "nbformat_minor": 2
}
