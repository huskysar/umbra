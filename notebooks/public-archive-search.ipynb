{
 "cells": [
  {
   "cell_type": "markdown",
   "metadata": {},
   "source": [
    "# Search Umbra SAR Archive\n",
    "\n",
    "Archive doesn't require authentication\n",
    "https://docs.canopy.umbra.space/docs/archive-catalog-searching-via-stac-api\n",
    "\n",
    "rate limited to 2 Requests / Second by request IP Address.\n",
    "https://docs.canopy.umbra.space/docs/rate-limiting#archive-catalog-rate-limits\n"
   ]
  },
  {
   "cell_type": "code",
   "execution_count": 1,
   "metadata": {},
   "outputs": [],
   "source": [
    "import geopandas as gpd\n",
    "import pystac_client\n",
    "import os "
   ]
  },
  {
   "cell_type": "code",
   "execution_count": 2,
   "metadata": {},
   "outputs": [
    {
     "data": {
      "text/plain": [
       "10"
      ]
     },
     "execution_count": 2,
     "metadata": {},
     "output_type": "execute_result"
    }
   ],
   "source": [
    "# Basic search, 10 most recent acquistions\n",
    "\n",
    "# NOTE: trailing slash seems critical, else get 'no healthy upstream' error\n",
    "stac_api_url = \"https://api.canopy.umbra.space/archive/\"\n",
    "catalog = pystac_client.Client.open(stac_api_url)\n",
    "\n",
    "time_range = [\"2020-01-01\", None]\n",
    "intersect_geometry = None\n",
    "\n",
    "stac_search = catalog.search(\n",
    "    max_items=10,\n",
    "    collections=[\"umbra-sar\"], \n",
    "    intersects=intersect_geometry, \n",
    "    datetime=time_range,\n",
    ")\n",
    "\n",
    "items = stac_search.item_collection()\n",
    "gf = gpd.GeoDataFrame.from_features(items.to_dict(), crs='EPSG:4326')\n",
    "len(gf)"
   ]
  },
  {
   "cell_type": "code",
   "execution_count": 3,
   "metadata": {},
   "outputs": [
    {
     "data": {
      "text/plain": [
       "1371"
      ]
     },
     "execution_count": 3,
     "metadata": {},
     "output_type": "execute_result"
    }
   ],
   "source": [
    "# Search for acquitiions in public data program\n",
    "stac_api_url = \"https://api.canopy.umbra.space/archive/\"\n",
    "catalog = pystac_client.Client.open(stac_api_url)\n",
    "\n",
    "cql2filter = {\n",
    "    \"op\": \"=\",\n",
    "    \"args\": [\n",
    "      {\n",
    "        \"property\": \"umbra:open-data-catalog\"\n",
    "      },\n",
    "      True\n",
    "    ]\n",
    "  }\n",
    "\n",
    "#limit_results=10000 #APIError: upstream request timeout\n",
    "#limit_results=5000 #APIError: upstream request timeout\n",
    "limit_results=2000 #works\n",
    "#limit_results=1000 #works\n",
    "\n",
    "stac_search = catalog.search(\n",
    "    bbox='-124.84, 24.39, -66.88, 49.38',\n",
    "    filter=cql2filter,\n",
    "    max_items=limit_results,\n",
    "    #NOTE: seems this must be set to>= max_items, else 'Unauthorized'\n",
    "    limit=limit_results,\n",
    ")\n",
    "\n",
    "items = stac_search.item_collection()\n",
    "gf = gpd.GeoDataFrame.from_features(items.to_dict(), crs='EPSG:4326')\n",
    "len(gf)"
   ]
  },
  {
   "cell_type": "code",
   "execution_count": 4,
   "metadata": {},
   "outputs": [
    {
     "data": {
      "text/plain": [
       "{'thumbnail': <Asset href=https://api.canopy.umbra.space/archive/thumbnail/dce419d0-fb28-41cc-9dae-5221aab83f3e>}"
      ]
     },
     "execution_count": 4,
     "metadata": {},
     "output_type": "execute_result"
    }
   ],
   "source": [
    "# Only thumbnails in assets!\n",
    "i = items[-1]\n",
    "i.assets"
   ]
  }
 ],
 "metadata": {
  "kernelspec": {
   "display_name": "default",
   "language": "python",
   "name": "python3"
  },
  "language_info": {
   "codemirror_mode": {
    "name": "ipython",
    "version": 3
   },
   "file_extension": ".py",
   "mimetype": "text/x-python",
   "name": "python",
   "nbconvert_exporter": "python",
   "pygments_lexer": "ipython3",
   "version": "3.13.0"
  }
 },
 "nbformat": 4,
 "nbformat_minor": 2
}
